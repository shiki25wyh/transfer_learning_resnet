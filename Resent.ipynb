{
 "cells": [
  {
   "cell_type": "code",
   "execution_count": 1,
   "id": "2d0f1f63",
   "metadata": {},
   "outputs": [
    {
     "name": "stdout",
     "output_type": "stream",
     "text": [
      "Init Plugin\n",
      "Init Graph Optimizer\n",
      "Init Kernel\n"
     ]
    }
   ],
   "source": [
    "import tensorflow as tf\n",
    "import cv2\n",
    "import PIL\n",
    "import os \n",
    "from PIL import Image\n",
    "import glob\n",
    "import numpy as np"
   ]
  },
  {
   "cell_type": "code",
   "execution_count": 2,
   "id": "252055e7",
   "metadata": {},
   "outputs": [],
   "source": [
    "cat = glob.glob('train/*cat*')"
   ]
  },
  {
   "cell_type": "code",
   "execution_count": 3,
   "id": "514e27f5",
   "metadata": {},
   "outputs": [],
   "source": [
    "dog = glob.glob('train/*dog*')"
   ]
  },
  {
   "cell_type": "code",
   "execution_count": 4,
   "id": "05e73292",
   "metadata": {},
   "outputs": [
    {
     "name": "stdout",
     "output_type": "stream",
     "text": [
      "12500 12500\n"
     ]
    }
   ],
   "source": [
    "print(len(dog),len(cat))"
   ]
  },
  {
   "cell_type": "code",
   "execution_count": 5,
   "id": "fbc0ef1b",
   "metadata": {},
   "outputs": [],
   "source": [
    "a=cv2.imread(cat[0])"
   ]
  },
  {
   "cell_type": "code",
   "execution_count": 6,
   "id": "7b62614d",
   "metadata": {},
   "outputs": [],
   "source": [
    "a = cv2.resize(a,(255,255))"
   ]
  },
  {
   "cell_type": "code",
   "execution_count": null,
   "id": "bf4896c4",
   "metadata": {},
   "outputs": [],
   "source": []
  },
  {
   "cell_type": "code",
   "execution_count": 7,
   "id": "6e0cfa77",
   "metadata": {},
   "outputs": [],
   "source": [
    "animal_images_dict = {\n",
    "    'cat':cat,\n",
    "    'dog':dog\n",
    "}\n",
    "\n",
    "animal_labels_dict = {\n",
    "    'cat':0,\n",
    "    'dog':1\n",
    "}"
   ]
  },
  {
   "cell_type": "code",
   "execution_count": 8,
   "id": "a3c60588",
   "metadata": {},
   "outputs": [],
   "source": [
    "X=[]\n",
    "y=[]\n",
    "for animal,images in animal_images_dict.items():\n",
    "    for image in images:\n",
    "        image = cv2.imread(image)\n",
    "        image = cv2.resize(image,(224,224))\n",
    "        X.append(image)\n",
    "        y.append(animal_labels_dict[animal])"
   ]
  },
  {
   "cell_type": "code",
   "execution_count": 9,
   "id": "586c2bc8",
   "metadata": {},
   "outputs": [],
   "source": [
    "X = np.array(X)\n",
    "y = np.array(y)"
   ]
  },
  {
   "cell_type": "code",
   "execution_count": 10,
   "id": "5ac34d2e",
   "metadata": {},
   "outputs": [],
   "source": [
    "from sklearn.model_selection import train_test_split\n",
    "X_train,X_test,y_train,y_test = train_test_split(X,y,shuffle=True)"
   ]
  },
  {
   "cell_type": "code",
   "execution_count": 11,
   "id": "319190ed",
   "metadata": {},
   "outputs": [],
   "source": [
    "X_train = X_train[0:3200]\n",
    "X_test = X_test[0:800]\n",
    "y_train = y_train[0:3200]\n",
    "y_test = y_test[0:800]"
   ]
  },
  {
   "cell_type": "code",
   "execution_count": 12,
   "id": "f25e1305",
   "metadata": {},
   "outputs": [],
   "source": [
    "# X_train = tf.convert_to_tensor(X_train)\n",
    "# X_test = tf.convert_to_tensor(X_test)\n",
    "# y_train = tf.convert_to_tensor(y_train)\n",
    "# y_test = tf.convert_to_tensor(y_test)\n"
   ]
  },
  {
   "cell_type": "code",
   "execution_count": 13,
   "id": "2ae8e528",
   "metadata": {},
   "outputs": [],
   "source": [
    "X_train = tf.keras.applications.resnet50.preprocess_input(\n",
    "    X_train, data_format=None\n",
    ")\n",
    "X_test = tf.keras.applications.resnet50.preprocess_input(\n",
    "    X_test, data_format=None\n",
    ")"
   ]
  },
  {
   "cell_type": "code",
   "execution_count": null,
   "id": "66096e20",
   "metadata": {},
   "outputs": [],
   "source": []
  },
  {
   "cell_type": "code",
   "execution_count": 14,
   "id": "a1142324",
   "metadata": {},
   "outputs": [],
   "source": [
    "from tensorflow import keras\n",
    "from tensorflow.keras import layers\n",
    "from tensorflow.keras.models import Sequential\n",
    "from tensorflow.keras.applications import resnet50"
   ]
  },
  {
   "cell_type": "code",
   "execution_count": 15,
   "id": "7c700593",
   "metadata": {},
   "outputs": [
    {
     "name": "stdout",
     "output_type": "stream",
     "text": [
      "Metal device set to: Apple M1\n"
     ]
    },
    {
     "name": "stderr",
     "output_type": "stream",
     "text": [
      "2022-07-27 17:49:16.869925: I tensorflow/core/common_runtime/pluggable_device/pluggable_device_factory.cc:305] Could not identify NUMA node of platform GPU ID 0, defaulting to 0. Your kernel may not have been built with NUMA support.\n",
      "2022-07-27 17:49:16.870286: I tensorflow/core/common_runtime/pluggable_device/pluggable_device_factory.cc:271] Created TensorFlow device (/job:localhost/replica:0/task:0/device:GPU:0 with 0 MB memory) -> physical PluggableDevice (device: 0, name: METAL, pci bus id: <undefined>)\n"
     ]
    }
   ],
   "source": [
    "base_model = resnet50.ResNet50(include_top=False,weights='imagenet',classes=2)\n",
    "base_model.trainable = False"
   ]
  },
  {
   "cell_type": "code",
   "execution_count": null,
   "id": "c688e97d",
   "metadata": {},
   "outputs": [],
   "source": []
  },
  {
   "cell_type": "code",
   "execution_count": 18,
   "id": "f0295d39",
   "metadata": {},
   "outputs": [
    {
     "name": "stderr",
     "output_type": "stream",
     "text": [
      "2022-07-27 18:02:32.464542: I tensorflow/core/profiler/lib/profiler_session.cc:126] Profiler session initializing.\n",
      "2022-07-27 18:02:32.464583: I tensorflow/core/profiler/lib/profiler_session.cc:141] Profiler session started.\n",
      "2022-07-27 18:02:32.465015: I tensorflow/core/profiler/lib/profiler_session.cc:159] Profiler session tear down.\n"
     ]
    }
   ],
   "source": [
    "from tensorflow.keras.callbacks import ModelCheckpoint,EarlyStopping,TensorBoard\n",
    "import os\n",
    "file_path = 'model'\n",
    "check_points_path = 'checkpoints/'\n",
    "log_path = 'logs'\n",
    "callbacks = ModelCheckpoint(filepath=check_points_path,save_weights_only=True,verbose=1)\n",
    "early_stop = EarlyStopping(monitor='val_loss', patience=3)\n",
    "tensorboard = TensorBoard(log_dir=log_path)"
   ]
  },
  {
   "cell_type": "code",
   "execution_count": 19,
   "id": "8722b9a0",
   "metadata": {},
   "outputs": [
    {
     "name": "stderr",
     "output_type": "stream",
     "text": [
      "/opt/homebrew/Caskroom/miniforge/base/envs/tensorflow/lib/python3.9/site-packages/tensorflow/python/keras/utils/generic_utils.py:494: CustomMaskWarning: Custom mask layers require a config and must override get_config. When loading, the custom mask layer must be passed to the custom_objects argument.\n",
      "  warnings.warn('Custom mask layers require a config and must override '\n"
     ]
    },
    {
     "name": "stdout",
     "output_type": "stream",
     "text": [
      "Epoch 1/50\n"
     ]
    },
    {
     "name": "stderr",
     "output_type": "stream",
     "text": [
      "2022-07-27 18:02:37.778786: I tensorflow/core/grappler/optimizers/custom_graph_optimizer_registry.cc:112] Plugin optimizer for device_type GPU is enabled.\n"
     ]
    },
    {
     "name": "stdout",
     "output_type": "stream",
     "text": [
      "\r",
      "  1/100 [..............................] - ETA: 2:56 - loss: 0.7977 - accuracy: 0.5312"
     ]
    },
    {
     "name": "stderr",
     "output_type": "stream",
     "text": [
      "2022-07-27 18:02:39.155119: I tensorflow/core/profiler/lib/profiler_session.cc:126] Profiler session initializing.\n",
      "2022-07-27 18:02:39.155135: I tensorflow/core/profiler/lib/profiler_session.cc:141] Profiler session started.\n"
     ]
    },
    {
     "name": "stdout",
     "output_type": "stream",
     "text": [
      "\b\b\b\b\b\b\b\b\b\b\b\b\b\b\b\b\b\b\b\b\b\b\b\b\b\b\b\b\b\b\b\b\b\b\b\b\b\b\b\b\b\b\b\b\b\b\b\b\b\b\b\b\b\b\b\b\b\b\b\b\b\b\b\b\b\b\b\b\b\b\b\b\b\b\b\b\b\b\b\b\b\b\b\b\b\b\r",
      "  2/100 [..............................] - ETA: 1:30 - loss: 2.2784 - accuracy: 0.5156"
     ]
    },
    {
     "name": "stderr",
     "output_type": "stream",
     "text": [
      "2022-07-27 18:02:41.346358: I tensorflow/core/profiler/lib/profiler_session.cc:66] Profiler session collecting data.\n",
      "2022-07-27 18:02:41.346798: I tensorflow/core/profiler/lib/profiler_session.cc:159] Profiler session tear down.\n",
      "2022-07-27 18:02:41.347837: I tensorflow/core/profiler/rpc/client/save_profile.cc:137] Creating directory: logs/train/plugins/profile/2022_07_27_18_02_41\n",
      "2022-07-27 18:02:41.348444: I tensorflow/core/profiler/rpc/client/save_profile.cc:143] Dumped gzipped tool data for trace.json.gz to logs/train/plugins/profile/2022_07_27_18_02_41/wangyuhuideMacBook-Pro.local.trace.json.gz\n",
      "2022-07-27 18:02:41.349064: I tensorflow/core/profiler/rpc/client/save_profile.cc:137] Creating directory: logs/train/plugins/profile/2022_07_27_18_02_41\n",
      "2022-07-27 18:02:41.349204: I tensorflow/core/profiler/rpc/client/save_profile.cc:143] Dumped gzipped tool data for memory_profile.json.gz to logs/train/plugins/profile/2022_07_27_18_02_41/wangyuhuideMacBook-Pro.local.memory_profile.json.gz\n",
      "2022-07-27 18:02:41.349573: I tensorflow/core/profiler/rpc/client/capture_profile.cc:251] Creating directory: logs/train/plugins/profile/2022_07_27_18_02_41Dumped tool data for xplane.pb to logs/train/plugins/profile/2022_07_27_18_02_41/wangyuhuideMacBook-Pro.local.xplane.pb\n",
      "Dumped tool data for overview_page.pb to logs/train/plugins/profile/2022_07_27_18_02_41/wangyuhuideMacBook-Pro.local.overview_page.pb\n",
      "Dumped tool data for input_pipeline.pb to logs/train/plugins/profile/2022_07_27_18_02_41/wangyuhuideMacBook-Pro.local.input_pipeline.pb\n",
      "Dumped tool data for tensorflow_stats.pb to logs/train/plugins/profile/2022_07_27_18_02_41/wangyuhuideMacBook-Pro.local.tensorflow_stats.pb\n",
      "Dumped tool data for kernel_stats.pb to logs/train/plugins/profile/2022_07_27_18_02_41/wangyuhuideMacBook-Pro.local.kernel_stats.pb\n",
      "\n"
     ]
    },
    {
     "name": "stdout",
     "output_type": "stream",
     "text": [
      "100/100 [==============================] - ETA: 0s - loss: 0.1863 - accuracy: 0.9491"
     ]
    },
    {
     "name": "stderr",
     "output_type": "stream",
     "text": [
      "2022-07-27 18:03:15.841177: I tensorflow/core/grappler/optimizers/custom_graph_optimizer_registry.cc:112] Plugin optimizer for device_type GPU is enabled.\n"
     ]
    },
    {
     "name": "stdout",
     "output_type": "stream",
     "text": [
      "100/100 [==============================] - 48s 462ms/step - loss: 0.1863 - accuracy: 0.9491 - val_loss: 0.0367 - val_accuracy: 0.9837\n",
      "\n",
      "Epoch 00001: saving model to checkpoints/\n",
      "Epoch 2/50\n",
      "100/100 [==============================] - 42s 420ms/step - loss: 0.0370 - accuracy: 0.9872 - val_loss: 0.0445 - val_accuracy: 0.9787\n",
      "\n",
      "Epoch 00002: saving model to checkpoints/\n",
      "Epoch 3/50\n",
      "100/100 [==============================] - 42s 417ms/step - loss: 0.0176 - accuracy: 0.9934 - val_loss: 0.0384 - val_accuracy: 0.9850\n",
      "\n",
      "Epoch 00003: saving model to checkpoints/\n",
      "Epoch 4/50\n",
      "100/100 [==============================] - 42s 422ms/step - loss: 0.0118 - accuracy: 0.9966 - val_loss: 0.0296 - val_accuracy: 0.9875\n",
      "\n",
      "Epoch 00004: saving model to checkpoints/\n",
      "Epoch 5/50\n",
      "100/100 [==============================] - 42s 417ms/step - loss: 0.0053 - accuracy: 0.9991 - val_loss: 0.0300 - val_accuracy: 0.9887\n",
      "\n",
      "Epoch 00005: saving model to checkpoints/\n",
      "Epoch 6/50\n",
      "100/100 [==============================] - 42s 416ms/step - loss: 0.0057 - accuracy: 0.9978 - val_loss: 0.0481 - val_accuracy: 0.9825\n",
      "\n",
      "Epoch 00006: saving model to checkpoints/\n",
      "Epoch 7/50\n",
      "100/100 [==============================] - 42s 423ms/step - loss: 0.0027 - accuracy: 0.9994 - val_loss: 0.0496 - val_accuracy: 0.9850\n",
      "\n",
      "Epoch 00007: saving model to checkpoints/\n"
     ]
    }
   ],
   "source": [
    "\n",
    "base_model = resnet50.ResNet50(include_top=False,weights='imagenet',classes=1000)\n",
    "base_model.trainable = False\n",
    "# with tf.device(\"/cpu:0\"):\n",
    "   \n",
    "\n",
    "#         data_augmentation = keras.Sequential([\n",
    "# #             layers.experimental.preprocessing.RandomZoom(0.3),\n",
    "# #         layers.experimental.preprocessing.RandomRotation(0.1),\n",
    "#             layers.experimental.preprocessing.RandomFlip(),\n",
    "#         layers.experimental.preprocessing.RandomCrop(224,224),\n",
    "#         ])\n",
    "\n",
    "\n",
    "        \n",
    "model = Sequential([\n",
    "#     data_augmentation,\n",
    "    base_model,\n",
    "    layers.GlobalAveragePooling2D(),\n",
    "    layers.Flatten(),\n",
    "    layers.Dense(1024,activation='relu'),\n",
    "    layers.Dense(1)\n",
    "])\n",
    "#         with tf.device(\"/gpu:0\"):\n",
    "model.compile(optimizer=tf.keras.optimizers.Adam(learning_rate=1e-3),loss=tf.keras.losses.BinaryCrossentropy(from_logits=True),metrics=['accuracy'])\n",
    "model_history = model.fit(X_train,y_train,validation_data=(X_test,y_test),epochs=50,callbacks=[callbacks,early_stop,tensorboard])\n",
    "\n",
    "            \n",
    "\n",
    "          "
   ]
  },
  {
   "cell_type": "code",
   "execution_count": null,
   "id": "edc496dc",
   "metadata": {},
   "outputs": [],
   "source": []
  }
 ],
 "metadata": {
  "kernelspec": {
   "display_name": "Python 3.9 (tensorflow)",
   "language": "python",
   "name": "tensorflow"
  },
  "language_info": {
   "codemirror_mode": {
    "name": "ipython",
    "version": 3
   },
   "file_extension": ".py",
   "mimetype": "text/x-python",
   "name": "python",
   "nbconvert_exporter": "python",
   "pygments_lexer": "ipython3",
   "version": "3.9.13"
  },
  "toc": {
   "base_numbering": 1,
   "nav_menu": {},
   "number_sections": true,
   "sideBar": true,
   "skip_h1_title": false,
   "title_cell": "Table of Contents",
   "title_sidebar": "Contents",
   "toc_cell": false,
   "toc_position": {},
   "toc_section_display": true,
   "toc_window_display": false
  }
 },
 "nbformat": 4,
 "nbformat_minor": 5
}
